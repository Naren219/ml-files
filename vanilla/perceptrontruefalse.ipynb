{
 "cells": [
  {
   "cell_type": "code",
   "execution_count": 4,
   "id": "6d4b943b",
   "metadata": {},
   "outputs": [],
   "source": [
    "import numpy, random, os\n",
    "lr = 1 #learning rate\n",
    "bias = 2 #value of bias\n",
    "weights = [random.random(),random.random(),random.random()] #weights generated in a list (3 weights in total for 2 neurons and the bias)\n",
    "\n",
    "def Perceptron1(input1, input2, output) :\n",
    "   outputP = input1*weights[0]+input2*weights[1]+bias*weights[2]\n",
    "   outputP = 1/(1+numpy.exp(-outputP)) #sigmoid function\n",
    "   error = output - outputP\n",
    "   weights[0] += error * input1 * lr\n",
    "   weights[1] += error * input2 * lr\n",
    "   weights[2] += error * bias * lr"
   ]
  },
  {
   "cell_type": "code",
   "execution_count": 5,
   "id": "06e9beda",
   "metadata": {},
   "outputs": [],
   "source": [
    "for i in range(50) :\n",
    "   Perceptron1(1,1,1) #True or true\n",
    "   Perceptron1(1,0,1) #True or false\n",
    "   Perceptron1(0,1,1) #False or true\n",
    "   Perceptron1(0,0,0) #False or false"
   ]
  },
  {
   "cell_type": "code",
   "execution_count": 6,
   "id": "3ded81c6",
   "metadata": {},
   "outputs": [
    {
     "name": "stdout",
     "output_type": "stream",
     "text": [
      "1 or 1 is :  0.9999181128928651\n"
     ]
    }
   ],
   "source": [
    "x = int(input())\n",
    "y = int(input())\n",
    "outputP = x*weights[0] + y*weights[1] + bias*weights[2]\n",
    "outputP = 1/(1+numpy.exp(-outputP)) #sigmoid function\n",
    "print(x, \"or\", y, \"is : \", outputP)"
   ]
  }
 ],
 "metadata": {
  "kernelspec": {
   "display_name": "Python 3",
   "language": "python",
   "name": "python3"
  },
  "language_info": {
   "codemirror_mode": {
    "name": "ipython",
    "version": 3
   },
   "file_extension": ".py",
   "mimetype": "text/x-python",
   "name": "python",
   "nbconvert_exporter": "python",
   "pygments_lexer": "ipython3",
   "version": "3.11.6"
  }
 },
 "nbformat": 4,
 "nbformat_minor": 5
}
